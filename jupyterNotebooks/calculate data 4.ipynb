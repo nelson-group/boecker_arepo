{
 "cells": [
  {
   "cell_type": "code",
   "execution_count": 1,
   "id": "440f2f19",
   "metadata": {},
   "outputs": [],
   "source": [
    "import h5py\n",
    "import numpy as np\n",
    "import matplotlib.pyplot as plt\n",
    "from scipy.stats import binned_statistic\n",
    "from os.path import exists"
   ]
  },
  {
   "cell_type": "code",
   "execution_count": 2,
   "id": "2d9a4754",
   "metadata": {},
   "outputs": [],
   "source": [
    "UnitVelocity_in_cm_per_s = 1e5\t\t\n",
    "UnitVelocity_in_km_per_s = UnitVelocity_in_cm_per_s / 1e5\n",
    "UnitLength_in_cm = 3.085678e18 \t# pc\n",
    "UnitMass_in_g = 1.989e31\t\t# 0.01 solar masses\n",
    "\n",
    "BoxSize = 48\n",
    "\n",
    "\n",
    "UnitTime_in_s = UnitLength_in_cm / UnitVelocity_in_cm_per_s\n",
    "TimeBetSnapshot_in_unit_time = 0.002\n",
    "TimeBetSnapshot_in_s = TimeBetSnapshot_in_unit_time * UnitTime_in_s\n",
    "TimeBetSnapshot_in_yr = TimeBetSnapshot_in_s / 60 / 60 / 24 / 365\n",
    "frameAmount = 20\n",
    "frameNbrMultiplier = 20\n",
    "\n",
    "timeScaleToYears = np.linspace(0,TimeBetSnapshot_in_yr*(frameAmount-1),frameAmount)\n",
    "\n",
    "folderPath = \"../run/1_clusters/\"\n",
    "\n",
    "#dataFolders = [\"20_0_cluster_dt_0_cRad_0_density_1_nstar_1_E_1e51erg_boxSize_48_res_128\", \"20_1_cluster_dt_0_cRad_0pc_density_1_nstar_5_E_1e51erg_boxSize_48_res_128\", \"20_2_cluster_dt_0_cRad_10pc_density_1_nstar_5_E_1e51erg_boxSize_48_res_128\"]\n",
    "#dataFolders = [\"19_0_cluster_dt_0_ds_0_density_1_nstar_1_boxSize_48_res_128\", \"19_0_cluster_dt_0_ds_0_density_1_nstar_10_boxSize_48_res_128\", \"19_0_cluster_dt_0_ds_0_density_1_nstar_100_boxSize_48_res_128\"]\n",
    "dataFolders = [\"1_2_cluster_dt_0_cRad_0pc_density_1_nstar_10_E_1e51erg_boxSize_48_res_128\"]#, \"1_3_cluster_dt_0_cRad_0pc_density_1_nstar_100_E_1e51erg_boxSize_48_res_128\", \"1_4_cluster_dt_0_cRad_10pc_density_1_nstar_10_E_1e51erg_boxSize_48_res_128\", \"1_5_cluster_dt_0_cRad_10pc_density_1_nstar_100_E_1e51erg_boxSize_48_res_128\"]\n"
   ]
  },
  {
   "cell_type": "code",
   "execution_count": null,
   "id": "dd4c50b4",
   "metadata": {},
   "outputs": [],
   "source": []
  },
  {
   "cell_type": "code",
   "execution_count": null,
   "id": "99741567",
   "metadata": {},
   "outputs": [],
   "source": []
  },
  {
   "cell_type": "code",
   "execution_count": null,
   "id": "a3f2cff4",
   "metadata": {},
   "outputs": [],
   "source": [
    "import matplotlib.animation as animation\n",
    "import matplotlib.image as mpimg\n",
    "\n",
    "folder = \"/vera/u/xboecker/run/4_galaxy/2_scale_SN_cluster/output/\"\n",
    "folder = \"/vera/u/xboecker/run/4_galaxy/xeno_diskIC/run_diskIC_wdm/output_no_cooling_or_SFR/\"\n",
    "\n",
    "frameAmount = 301\n",
    "\n",
    "fig, ax = plt.subplots(figsize = (100,100))\n",
    "#plt.axis([0, 400, 0, 300])\n",
    "\n",
    "\n",
    "def animate(timeStep):\n",
    "    print(timeStep)\n",
    "    plt.clf()\n",
    "    img = mpimg.imread(\"plots/Galaxy/galaxyHist2d_run_diskIC_wdm/CoolingAndSFR/\"+str(timeStep).zfill(3)+\".png\")\n",
    "    plt.imshow(img)\n",
    "anim = animation.FuncAnimation(fig, animate,\n",
    "                               frames=frameAmount)#,\n",
    "                               #interval=5,\n",
    "                               #repeat=False)\n",
    "\n",
    "f = r\"plots/Galaxy/galaxyHist2d_run_diskIC_wdm/CoolingAndSFR/galaxy_cooling_and_sfr_301_frames.gif\" \n",
    "writergif = animation.PillowWriter(fps=10) \n",
    "anim.save(f, writer=writergif)\n",
    "\n",
    "plt.show()"
   ]
  },
  {
   "cell_type": "markdown",
   "id": "0534c3c8",
   "metadata": {},
   "source": [
    "### Kinetic Energy"
   ]
  },
  {
   "cell_type": "code",
   "execution_count": 1,
   "id": "0882c308",
   "metadata": {},
   "outputs": [],
   "source": [
    "def getTotalKineticEnergy(timeStep, folder):\n",
    "    with h5py.File(folderPath+folder + \"/output\"+\"/snap_\"+str(timeStep).zfill(3) +\".hdf5\", \"r\") as hdf:\n",
    "        masses = np.array(hdf.get(\"PartType0/Masses\"))\n",
    "        velocities = np.array(hdf.get(\"PartType0/Velocities\"))\n",
    "    \n",
    "    absVelocities = np.zeros(len(velocities))\n",
    "    for i in range(len(velocities)):\n",
    "            absVelocities[i] = np.sqrt(velocities[i][0]**2 + velocities[i][1]**2 + velocities[i][2]**2)\n",
    "    \n",
    "    kineticEnergies = 0.5 * masses * absVelocities*2\n",
    "    return np.sum(kineticEnergies)"
   ]
  },
  {
   "cell_type": "code",
   "execution_count": 5,
   "id": "5195c345",
   "metadata": {},
   "outputs": [
    {
     "name": "stdout",
     "output_type": "stream",
     "text": [
      "folder 0\n",
      "0\n",
      "1\n",
      "2\n",
      "3\n",
      "4\n",
      "5\n",
      "6\n",
      "7\n",
      "8\n",
      "9\n",
      "10\n",
      "11\n",
      "12\n",
      "13\n",
      "14\n",
      "15\n",
      "16\n",
      "17\n",
      "18\n",
      "19\n"
     ]
    }
   ],
   "source": [
    "totalKineticEnergy = np.zeros((len(dataFolders),frameAmount))\n",
    "\n",
    "for i in range(len(dataFolders)):\n",
    "    print(\"folder \"+str(i))\n",
    "    if(exists(\"data/totalKineticEnergy\"+dataFolders[i])):\n",
    "        totalKineticEnergy[i] = np.loadtxt(\"data/totalKineticEnergy\"+dataFolders[i])\n",
    "    else:\n",
    "        for j in range(frameAmount):\n",
    "            totalKineticEnergy[i,j] = getTotalKineticEnergy(j * frameNbrMultiplier, dataFolders[i])\n",
    "            print(j)\n",
    "\n",
    "        np.savetxt(\"data/totalKineticEnergy\"+dataFolders[i], totalKineticEnergy[i])\n",
    "    #print(iE[i])"
   ]
  },
  {
   "cell_type": "markdown",
   "id": "06d640b6",
   "metadata": {},
   "source": [
    "### Radial Velocities"
   ]
  },
  {
   "cell_type": "code",
   "execution_count": 5,
   "id": "f811be8e",
   "metadata": {},
   "outputs": [],
   "source": [
    "def VelToRadialVel(velocities, coos):\n",
    "    radialVelocities = np.zeros(len(velocities))\n",
    "    for i in range(len(radialVelocities)):\n",
    "        radialDirections = (coos[i] - np.array([1,1,1])) / np.linalg.norm(coos[i] - np.array([1,1,1])) #normed\n",
    "        radialVelocities[i] = velocities[i][0] * radialDirections[0] + velocities[i][1] * radialDirections[1] + velocities[i][2] * radialDirections[2]\n",
    "    return radialVelocities\n",
    "\n",
    "\n",
    "def getRadialGasVelocities(timeStep, folder):\n",
    "    with h5py.File(folderPath+folder + \"/output\"+\"/snap_\"+str(timeStep).zfill(3) +\".hdf5\", \"r\") as hdf:\n",
    "        velocities = np.array(hdf.get(\"PartType0/Velocities\"))\n",
    "        coos = np.array(hdf.get(\"PartType0/Coordinates\"))\n",
    "        radVels = VelToRadialVel(velocities, coos)\n",
    "        \n",
    "        return radVels"
   ]
  },
  {
   "cell_type": "code",
   "execution_count": 9,
   "id": "3f19b20d",
   "metadata": {},
   "outputs": [
    {
     "name": "stdout",
     "output_type": "stream",
     "text": [
      "folder 0\n",
      "data/radGasVelocities_1_2_cluster_dt_0_cRad_0pc_density_1_nstar_10_E_1e51erg_boxSize_48_res_128\n",
      "95\n"
     ]
    },
    {
     "ename": "KeyboardInterrupt",
     "evalue": "",
     "output_type": "error",
     "traceback": [
      "\u001b[0;31m---------------------------------------------------------------------------\u001b[0m",
      "\u001b[0;31mKeyboardInterrupt\u001b[0m                         Traceback (most recent call last)",
      "\u001b[0;32m/tmp/ipykernel_32861/3708346787.py\u001b[0m in \u001b[0;36m<module>\u001b[0;34m\u001b[0m\n\u001b[1;32m     11\u001b[0m         \u001b[0;31m#calculate and save new data\u001b[0m\u001b[0;34m\u001b[0m\u001b[0;34m\u001b[0m\u001b[0m\n\u001b[1;32m     12\u001b[0m         \u001b[0;32mfor\u001b[0m \u001b[0mj\u001b[0m \u001b[0;32min\u001b[0m \u001b[0mrange\u001b[0m\u001b[0;34m(\u001b[0m\u001b[0mframeAmount\u001b[0m\u001b[0;34m)\u001b[0m\u001b[0;34m:\u001b[0m\u001b[0;34m\u001b[0m\u001b[0;34m\u001b[0m\u001b[0m\n\u001b[0;32m---> 13\u001b[0;31m             \u001b[0mradGasVelocities\u001b[0m\u001b[0;34m[\u001b[0m\u001b[0mi\u001b[0m\u001b[0;34m,\u001b[0m\u001b[0mj\u001b[0m\u001b[0;34m]\u001b[0m \u001b[0;34m=\u001b[0m \u001b[0mnp\u001b[0m\u001b[0;34m.\u001b[0m\u001b[0mmax\u001b[0m\u001b[0;34m(\u001b[0m\u001b[0mgetRadialGasVelocities\u001b[0m\u001b[0;34m(\u001b[0m\u001b[0mframeNbrMultiplier\u001b[0m \u001b[0;34m*\u001b[0m \u001b[0mj\u001b[0m\u001b[0;34m,\u001b[0m \u001b[0mdataFolders\u001b[0m\u001b[0;34m[\u001b[0m\u001b[0mi\u001b[0m\u001b[0;34m]\u001b[0m\u001b[0;34m)\u001b[0m\u001b[0;34m)\u001b[0m\u001b[0;34m\u001b[0m\u001b[0;34m\u001b[0m\u001b[0m\n\u001b[0m\u001b[1;32m     14\u001b[0m             \u001b[0mprint\u001b[0m\u001b[0;34m(\u001b[0m\u001b[0mj\u001b[0m\u001b[0;34m)\u001b[0m\u001b[0;34m\u001b[0m\u001b[0;34m\u001b[0m\u001b[0m\n\u001b[1;32m     15\u001b[0m \u001b[0;34m\u001b[0m\u001b[0m\n",
      "\u001b[0;32m/tmp/ipykernel_32861/2805883425.py\u001b[0m in \u001b[0;36mgetRadialGasVelocities\u001b[0;34m(timeStep, folder)\u001b[0m\n\u001b[1;32m     11\u001b[0m         \u001b[0mvelocities\u001b[0m \u001b[0;34m=\u001b[0m \u001b[0mnp\u001b[0m\u001b[0;34m.\u001b[0m\u001b[0marray\u001b[0m\u001b[0;34m(\u001b[0m\u001b[0mhdf\u001b[0m\u001b[0;34m.\u001b[0m\u001b[0mget\u001b[0m\u001b[0;34m(\u001b[0m\u001b[0;34m\"PartType0/Velocities\"\u001b[0m\u001b[0;34m)\u001b[0m\u001b[0;34m)\u001b[0m\u001b[0;34m\u001b[0m\u001b[0;34m\u001b[0m\u001b[0m\n\u001b[1;32m     12\u001b[0m         \u001b[0mcoos\u001b[0m \u001b[0;34m=\u001b[0m \u001b[0mnp\u001b[0m\u001b[0;34m.\u001b[0m\u001b[0marray\u001b[0m\u001b[0;34m(\u001b[0m\u001b[0mhdf\u001b[0m\u001b[0;34m.\u001b[0m\u001b[0mget\u001b[0m\u001b[0;34m(\u001b[0m\u001b[0;34m\"PartType0/Coordinates\"\u001b[0m\u001b[0;34m)\u001b[0m\u001b[0;34m)\u001b[0m\u001b[0;34m\u001b[0m\u001b[0;34m\u001b[0m\u001b[0m\n\u001b[0;32m---> 13\u001b[0;31m         \u001b[0mradVels\u001b[0m \u001b[0;34m=\u001b[0m \u001b[0mVelToRadialVel\u001b[0m\u001b[0;34m(\u001b[0m\u001b[0mvelocities\u001b[0m\u001b[0;34m,\u001b[0m \u001b[0mcoos\u001b[0m\u001b[0;34m)\u001b[0m\u001b[0;34m\u001b[0m\u001b[0;34m\u001b[0m\u001b[0m\n\u001b[0m\u001b[1;32m     14\u001b[0m \u001b[0;34m\u001b[0m\u001b[0m\n\u001b[1;32m     15\u001b[0m         \u001b[0;32mreturn\u001b[0m \u001b[0mradVels\u001b[0m\u001b[0;34m\u001b[0m\u001b[0;34m\u001b[0m\u001b[0m\n",
      "\u001b[0;32m/tmp/ipykernel_32861/2805883425.py\u001b[0m in \u001b[0;36mVelToRadialVel\u001b[0;34m(velocities, coos)\u001b[0m\n\u001b[1;32m      2\u001b[0m     \u001b[0mradialVelocities\u001b[0m \u001b[0;34m=\u001b[0m \u001b[0mnp\u001b[0m\u001b[0;34m.\u001b[0m\u001b[0mzeros\u001b[0m\u001b[0;34m(\u001b[0m\u001b[0mlen\u001b[0m\u001b[0;34m(\u001b[0m\u001b[0mvelocities\u001b[0m\u001b[0;34m)\u001b[0m\u001b[0;34m)\u001b[0m\u001b[0;34m\u001b[0m\u001b[0;34m\u001b[0m\u001b[0m\n\u001b[1;32m      3\u001b[0m     \u001b[0;32mfor\u001b[0m \u001b[0mi\u001b[0m \u001b[0;32min\u001b[0m \u001b[0mrange\u001b[0m\u001b[0;34m(\u001b[0m\u001b[0mlen\u001b[0m\u001b[0;34m(\u001b[0m\u001b[0mradialVelocities\u001b[0m\u001b[0;34m)\u001b[0m\u001b[0;34m)\u001b[0m\u001b[0;34m:\u001b[0m\u001b[0;34m\u001b[0m\u001b[0;34m\u001b[0m\u001b[0m\n\u001b[0;32m----> 4\u001b[0;31m         \u001b[0mradialDirections\u001b[0m \u001b[0;34m=\u001b[0m \u001b[0;34m(\u001b[0m\u001b[0mcoos\u001b[0m\u001b[0;34m[\u001b[0m\u001b[0mi\u001b[0m\u001b[0;34m]\u001b[0m \u001b[0;34m-\u001b[0m \u001b[0mnp\u001b[0m\u001b[0;34m.\u001b[0m\u001b[0marray\u001b[0m\u001b[0;34m(\u001b[0m\u001b[0;34m[\u001b[0m\u001b[0;36m1\u001b[0m\u001b[0;34m,\u001b[0m\u001b[0;36m1\u001b[0m\u001b[0;34m,\u001b[0m\u001b[0;36m1\u001b[0m\u001b[0;34m]\u001b[0m\u001b[0;34m)\u001b[0m\u001b[0;34m)\u001b[0m \u001b[0;34m/\u001b[0m \u001b[0mnp\u001b[0m\u001b[0;34m.\u001b[0m\u001b[0mlinalg\u001b[0m\u001b[0;34m.\u001b[0m\u001b[0mnorm\u001b[0m\u001b[0;34m(\u001b[0m\u001b[0mcoos\u001b[0m\u001b[0;34m[\u001b[0m\u001b[0mi\u001b[0m\u001b[0;34m]\u001b[0m \u001b[0;34m-\u001b[0m \u001b[0mnp\u001b[0m\u001b[0;34m.\u001b[0m\u001b[0marray\u001b[0m\u001b[0;34m(\u001b[0m\u001b[0;34m[\u001b[0m\u001b[0;36m1\u001b[0m\u001b[0;34m,\u001b[0m\u001b[0;36m1\u001b[0m\u001b[0;34m,\u001b[0m\u001b[0;36m1\u001b[0m\u001b[0;34m]\u001b[0m\u001b[0;34m)\u001b[0m\u001b[0;34m)\u001b[0m \u001b[0;31m#normed\u001b[0m\u001b[0;34m\u001b[0m\u001b[0;34m\u001b[0m\u001b[0m\n\u001b[0m\u001b[1;32m      5\u001b[0m         \u001b[0mradialVelocities\u001b[0m\u001b[0;34m[\u001b[0m\u001b[0mi\u001b[0m\u001b[0;34m]\u001b[0m \u001b[0;34m=\u001b[0m \u001b[0mvelocities\u001b[0m\u001b[0;34m[\u001b[0m\u001b[0mi\u001b[0m\u001b[0;34m]\u001b[0m\u001b[0;34m[\u001b[0m\u001b[0;36m0\u001b[0m\u001b[0;34m]\u001b[0m \u001b[0;34m*\u001b[0m \u001b[0mradialDirections\u001b[0m\u001b[0;34m[\u001b[0m\u001b[0;36m0\u001b[0m\u001b[0;34m]\u001b[0m \u001b[0;34m+\u001b[0m \u001b[0mvelocities\u001b[0m\u001b[0;34m[\u001b[0m\u001b[0mi\u001b[0m\u001b[0;34m]\u001b[0m\u001b[0;34m[\u001b[0m\u001b[0;36m1\u001b[0m\u001b[0;34m]\u001b[0m \u001b[0;34m*\u001b[0m \u001b[0mradialDirections\u001b[0m\u001b[0;34m[\u001b[0m\u001b[0;36m1\u001b[0m\u001b[0;34m]\u001b[0m \u001b[0;34m+\u001b[0m \u001b[0mvelocities\u001b[0m\u001b[0;34m[\u001b[0m\u001b[0mi\u001b[0m\u001b[0;34m]\u001b[0m\u001b[0;34m[\u001b[0m\u001b[0;36m2\u001b[0m\u001b[0;34m]\u001b[0m \u001b[0;34m*\u001b[0m \u001b[0mradialDirections\u001b[0m\u001b[0;34m[\u001b[0m\u001b[0;36m2\u001b[0m\u001b[0;34m]\u001b[0m\u001b[0;34m\u001b[0m\u001b[0;34m\u001b[0m\u001b[0m\n\u001b[1;32m      6\u001b[0m     \u001b[0;32mreturn\u001b[0m \u001b[0mradialVelocities\u001b[0m\u001b[0;34m\u001b[0m\u001b[0;34m\u001b[0m\u001b[0m\n",
      "\u001b[0;32m<__array_function__ internals>\u001b[0m in \u001b[0;36mnorm\u001b[0;34m(*args, **kwargs)\u001b[0m\n",
      "\u001b[0;32m/mpcdf/soft/SLE_15/packages/x86_64/anaconda/3/2021.11/lib/python3.9/site-packages/numpy/linalg/linalg.py\u001b[0m in \u001b[0;36mnorm\u001b[0;34m(x, ord, axis, keepdims)\u001b[0m\n\u001b[1;32m   2513\u001b[0m     \u001b[0mx\u001b[0m \u001b[0;34m=\u001b[0m \u001b[0masarray\u001b[0m\u001b[0;34m(\u001b[0m\u001b[0mx\u001b[0m\u001b[0;34m)\u001b[0m\u001b[0;34m\u001b[0m\u001b[0;34m\u001b[0m\u001b[0m\n\u001b[1;32m   2514\u001b[0m \u001b[0;34m\u001b[0m\u001b[0m\n\u001b[0;32m-> 2515\u001b[0;31m     \u001b[0;32mif\u001b[0m \u001b[0;32mnot\u001b[0m \u001b[0missubclass\u001b[0m\u001b[0;34m(\u001b[0m\u001b[0mx\u001b[0m\u001b[0;34m.\u001b[0m\u001b[0mdtype\u001b[0m\u001b[0;34m.\u001b[0m\u001b[0mtype\u001b[0m\u001b[0;34m,\u001b[0m \u001b[0;34m(\u001b[0m\u001b[0minexact\u001b[0m\u001b[0;34m,\u001b[0m \u001b[0mobject_\u001b[0m\u001b[0;34m)\u001b[0m\u001b[0;34m)\u001b[0m\u001b[0;34m:\u001b[0m\u001b[0;34m\u001b[0m\u001b[0;34m\u001b[0m\u001b[0m\n\u001b[0m\u001b[1;32m   2516\u001b[0m         \u001b[0mx\u001b[0m \u001b[0;34m=\u001b[0m \u001b[0mx\u001b[0m\u001b[0;34m.\u001b[0m\u001b[0mastype\u001b[0m\u001b[0;34m(\u001b[0m\u001b[0mfloat\u001b[0m\u001b[0;34m)\u001b[0m\u001b[0;34m\u001b[0m\u001b[0;34m\u001b[0m\u001b[0m\n\u001b[1;32m   2517\u001b[0m \u001b[0;34m\u001b[0m\u001b[0m\n",
      "\u001b[0;31mKeyboardInterrupt\u001b[0m: "
     ]
    }
   ],
   "source": [
    "radGasVelocities = np.zeros((len(dataFolders),frameAmount))\n",
    "\n",
    "for i in range(len(dataFolders)):\n",
    "    print(\"folder \"+str(i))\n",
    "    if(exists(\"data/radGasVelocities_\"+dataFolders[i]) and len(\"data/radGasVelocities_\"+dataFolders[i]) == frameAmount):\n",
    "        #load data\n",
    "        radGasVelocities[i] = np.loadtxt(\"data/radGasVelocities_\"+dataFolders[i])\n",
    "    else:\n",
    "        #calculate and save new data\n",
    "        for j in range(frameAmount):\n",
    "            radGasVelocities[i,j] = np.max(getRadialGasVelocities(frameNbrMultiplier * j, dataFolders[i]))\n",
    "            print(j)\n",
    "        \n",
    "        np.savetxt(\"data/radGasVelocities_\"+dataFolders[i], radGasVelocities[i])\n"
   ]
  },
  {
   "cell_type": "markdown",
   "id": "1b54343b",
   "metadata": {},
   "source": [
    "### Blastwave Radius (velocity cut)"
   ]
  },
  {
   "cell_type": "code",
   "execution_count": 10,
   "id": "f6065d90",
   "metadata": {},
   "outputs": [],
   "source": [
    "def getBlastwaveSphereRadius(timeStep, folder):\n",
    "    with h5py.File(folderPath + folder + \"/output\"+\"/snap_\"+str(timeStep).zfill(3) +\".hdf5\", \"r\") as hdf:\n",
    "        coos = np.array(hdf.get(\"PartType0/Coordinates\"))\n",
    "        velocities = np.array(hdf.get(\"PartType0/Velocities\"))\n",
    "    \n",
    "    absVelocities = np.zeros(len(velocities))\n",
    "    distsFromCenter = np.zeros(len(velocities))\n",
    "    for i in range(len(velocities)):\n",
    "        absVelocities[i] = np.sqrt(velocities[i][0]**2 + velocities[i][1]**2 + velocities[i][2]**2)\n",
    "        if(absVelocities[i] >= 1):\n",
    "            distsFromCenter[i] = np.sqrt((coos[i][0]-BoxSize/2)**2 + (coos[i][1]-BoxSize/2)**2 + (coos[i][2]-BoxSize/2)**2)\n",
    "        else:\n",
    "            distsFromCenter[i] = 0\n",
    "    \n",
    "    return np.max(distsFromCenter)\n",
    "\n",
    "def shellVelFromRadius(radii):\n",
    "    shellVelocities = np.zeros(len(radii))\n",
    "    shellVelocities[0] = radii[0] * UnitLength_in_cm / 1e3 / TimeBetSnapshot_in_s\n",
    "    shellVelocities[1:] = (radii[1:] - radii[:-1]) * UnitLength_in_cm / 1e3 / TimeBetSnapshot_in_s\n",
    "    \n",
    "    return shellVelocities # in km/s"
   ]
  },
  {
   "cell_type": "code",
   "execution_count": 11,
   "id": "289ace95",
   "metadata": {},
   "outputs": [
    {
     "name": "stdout",
     "output_type": "stream",
     "text": [
      "0\n",
      "1\n",
      "2\n",
      "3\n",
      "4\n",
      "5\n",
      "6\n",
      "7\n",
      "8\n",
      "9\n",
      "10\n",
      "11\n",
      "12\n",
      "13\n",
      "14\n",
      "15\n",
      "16\n",
      "17\n",
      "18\n",
      "19\n"
     ]
    }
   ],
   "source": [
    "shellRadii = np.zeros((len(dataFolders),frameAmount))\n",
    "for i in range(len(dataFolders)):\n",
    "    if(exists(\"data/shellRadii\"+dataFolders[i])):\n",
    "        shellRadii[i] =np.loadtxt(\"data/shellRadii\"+dataFolders[i])\n",
    "    else:\n",
    "        for j in range(frameAmount):\n",
    "            shellRadii[i,j] = getBlastwaveSphereRadius(frameNbrMultiplier * j, dataFolders[i])\n",
    "            print(j)\n",
    "        np.savetxt(\"data/shellRadii\"+dataFolders[i], momenta[i])"
   ]
  },
  {
   "cell_type": "markdown",
   "id": "de9fa037",
   "metadata": {},
   "source": [
    "### Momentum"
   ]
  },
  {
   "cell_type": "code",
   "execution_count": 3,
   "id": "d240527e",
   "metadata": {},
   "outputs": [],
   "source": [
    "def getMomentum(timeStep, folder):\n",
    "    with h5py.File(folderPath+folder + \"/output\"+\"/snap_\"+str(timeStep).zfill(3) +\".hdf5\", \"r\") as hdf:\n",
    "        masses = np.array(hdf.get(\"PartType0/Masses\"))\n",
    "        velocities = np.array(hdf.get(\"PartType0/Velocities\"))\n",
    "    \n",
    "    absVelocities = np.zeros(len(velocities))\n",
    "    for i in range(len(velocities)):\n",
    "            absVelocities[i] = np.sqrt(velocities[i][0]**2 + velocities[i][1]**2 + velocities[i][2]**2)\n",
    "    \n",
    "    momenta = masses * absVelocities\n",
    "    return sum(momenta)"
   ]
  },
  {
   "cell_type": "code",
   "execution_count": 4,
   "id": "eda16f33",
   "metadata": {},
   "outputs": [
    {
     "name": "stdout",
     "output_type": "stream",
     "text": [
      "0\n",
      "1\n",
      "2\n",
      "3\n",
      "4\n",
      "5\n",
      "6\n",
      "7\n",
      "8\n",
      "9\n",
      "10\n",
      "11\n",
      "12\n",
      "13\n",
      "14\n",
      "15\n",
      "16\n",
      "17\n",
      "18\n",
      "19\n"
     ]
    }
   ],
   "source": [
    "momenta = np.zeros((len(dataFolders),frameAmount))\n",
    "\n",
    "for i in range(len(dataFolders)):\n",
    "    for j in range(frameAmount):\n",
    "        momenta[i,j] = getMomentum(frameNbrMultiplier * j, dataFolders[i])\n",
    "        print(j)\n",
    "        \n",
    "    np.savetxt(\"data/momenta\"+dataFolders[i], momenta[i])"
   ]
  },
  {
   "cell_type": "code",
   "execution_count": null,
   "id": "c7ad07cf",
   "metadata": {},
   "outputs": [],
   "source": [
    "radialVelocities = np.zeros(len(velocities))\n",
    "    for i in range(len(radialVelocities)):\n",
    "        radialDirection = (coos[i] - np.array([1,1,1])) / np.linalg.norm(coos[i] - np.array([1,1,1])) #normed\n",
    "        radialVelocities[i] = velocities[i][0] * radialDirection[0] + velocities[i][1] * radialDirection[1] + velocities[i][2] * radialDirection[2]\n",
    "    return radialVelocities"
   ]
  },
  {
   "cell_type": "code",
   "execution_count": 50,
   "id": "f16d0da9",
   "metadata": {},
   "outputs": [
    {
     "name": "stdout",
     "output_type": "stream",
     "text": [
      "vels=array([[1, 0, 0],\n",
      "       [1, 0, 0]])\n",
      "normedRadDirs=array([[1., 0., 0.],\n",
      "       [1., 0., 0.]])\n",
      "radVels=array([[1., 0., 0.],\n",
      "       [1., 0., 0.]])\n"
     ]
    }
   ],
   "source": [
    "\n",
    "coos = np.array([[1.1,1.1,1.1],[1.1,1.1,1.1]])\n",
    "coos = np.array([[0.99,0.99,0.99],[0.99,0.99,0.99]])\n",
    "coos = np.array([[2,1,1],[3,1,1]])\n",
    "vels = np.array([[1,2,3],[4,5,6]])\n",
    "vels = np.array([[1,0,0],[1,0,0]])\n",
    "ones = np.ones(3)\n",
    "\n",
    "radDirs = coos-ones\n",
    "radDirsNorm = np.sqrt((radDirs*radDirs).sum(axis=1))\n",
    "normedRadDirs = radDirs / radDirsNorm[:,None] # radDirs: (2,3); radDirsNorm: (2,1)\n",
    "\n",
    "radVels = vels * normedRadDirs\n",
    "\n",
    "print(f\"{vels=}\\n{normedRadDirs=}\\n{radVels=}\")"
   ]
  },
  {
   "cell_type": "code",
   "execution_count": null,
   "id": "bf528417",
   "metadata": {},
   "outputs": [],
   "source": []
  }
 ],
 "metadata": {
  "kernelspec": {
   "display_name": "Python 3 (ipykernel)",
   "language": "python",
   "name": "python3"
  },
  "language_info": {
   "codemirror_mode": {
    "name": "ipython",
    "version": 3
   },
   "file_extension": ".py",
   "mimetype": "text/x-python",
   "name": "python",
   "nbconvert_exporter": "python",
   "pygments_lexer": "ipython3",
   "version": "3.9.7"
  }
 },
 "nbformat": 4,
 "nbformat_minor": 5
}
