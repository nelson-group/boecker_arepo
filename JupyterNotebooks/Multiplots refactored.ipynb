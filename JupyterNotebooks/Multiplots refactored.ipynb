{
 "cells": [
  {
   "cell_type": "code",
   "execution_count": 1,
   "id": "cb5762d6",
   "metadata": {},
   "outputs": [],
   "source": [
    "import h5py\n",
    "import numpy as np\n",
    "import matplotlib.pyplot as plt\n",
    "import matplotlib.animation as animation\n",
    "import matplotlib.image as mgimg\n",
    "from scipy.stats import binned_statistic"
   ]
  },
  {
   "cell_type": "code",
   "execution_count": 2,
   "id": "43473eee",
   "metadata": {},
   "outputs": [],
   "source": [
    "UnitVelocity_in_cm_per_s = 1e5\t\t\n",
    "UnitVelocity_in_km_per_s = UnitVelocity_in_cm_per_s / 1e5\n",
    "UnitLength_in_cm = 3.085678e18 \t# pc\n",
    "UnitLength_in_pc = UnitLength_in_cm / 3.085678e18\n",
    "UnitMass_in_g = 1.989e31\t\t# 0.01 solar masses\n",
    "UnitMass_in_Msun = UnitMass_in_g / 1.989e33\n",
    "\n",
    "yr_to_sec = 60 * 60 * 24 * 365\n",
    "sec_to_yr = 1 / yr_to_sec\n",
    "cm_to_km = 1 / 1e5\n",
    "cm_to_pc = 1 / 3.085678e18\n",
    "UnitEnergy_in_erg = UnitMass_in_g * UnitVelocity_in_cm_per_s**2\n",
    "UnitDensity_in_cgs = UnitMass_in_g / UnitLength_in_cm**3\n",
    "UnitTime_in_s = UnitLength_in_cm / UnitVelocity_in_cm_per_s\n",
    "UnitTime_in_yr = UnitTime_in_s * sec_to_yr\n",
    "\n",
    "kB_SI = 1.38e-23 #J/K\n",
    "kB_cgs = kB_SI * 1e7\n",
    "\n",
    "X_H = 0.76 # hydrogen mass fraction\n",
    "gamma = 5/3\n",
    "m_p = 1.67e-24 # proton mass in g"
   ]
  },
  {
   "cell_type": "code",
   "execution_count": 22,
   "id": "978dd6aa",
   "metadata": {},
   "outputs": [],
   "source": [
    "# Load Data\n",
    "\n",
    "def LoadDataFromHDF(folder, timeStep, dataName, debugOn = False):\n",
    "    with h5py.File(folder+\"/snap_\"+str(timeStep).zfill(3) +\".hdf5\", \"r\") as hdf:\n",
    "        data = np.array(hdf.get(\"PartType0/\"+dataName))\n",
    "        \n",
    "    if(debugOn):\n",
    "        print(\"max \"+dataName+\": \" + str(np.max(data)))\n",
    "        print(\"min \"+dataName+\": \" + str(np.min(data)))\n",
    "        \n",
    "    return data\n",
    "\n",
    "# Compute Variables\n",
    "\n",
    "def T(internalEnergy, electronAbundance): #input in codeunits output in Kelvin\n",
    "    x_e = electronAbundance\n",
    "    u = internalEnergy\n",
    "    \n",
    "    my = 4/(1 + 3 * X_H + 4 * X_H * x_e) * m_p # meanMolecularWeight\n",
    "    T = (gamma - 1) * u / kB_cgs * UnitEnergy_in_erg / UnitMass_in_g * my\n",
    "    return T\n",
    "\n",
    "\n",
    "def GetTemperatures(folder, timeStep, debugOn = False):\n",
    "    energies = LoadDataFromHDF(folder, timeStep, \"InternalEnergy\")\n",
    "    electronAbundance = LoadDataFromHDF(folder, timeStep, \"ElectronAbundance\")\n",
    "    \n",
    "    temperatures = T(energies, electronAbundance)\n",
    "    \n",
    "    if(timeStep == 0):\n",
    "        print(\"initial temperature: \" + str(temperatures[0]) + \"K\")\n",
    "    if(debugOn):\n",
    "        print(\"max temp: \" + str(np.max(temperatures)))\n",
    "        print(\"min temp: \" + str(np.min(temperatures)))\n",
    "    \n",
    "    return temperatures\n",
    "    \n",
    "    \n",
    "def GetAbsoluteVelocities(folder, timeStep):\n",
    "    velocities = LoadDataFromHDF(folder, timeStep, \"Velocities\")\n",
    "    absoluteVelocities = np.sqrt((velocities*velocities).sum(axis=1))\n",
    "    return absoluteVelocities\n",
    "\n",
    "\n",
    "def GetRadialDistances(coos):\n",
    "    radDists = np.sqrt( (coos[:,0]-boxSize/2)**2 + (coos[:,1]-boxSize/2)**2 + (coos[:,2]-boxSize/2)**2 )\n",
    "    return radDists\n",
    "\n",
    "def GetRadialProfile(coos, values, bins, stat = 'mean'):\n",
    "    profile = np.zeros(len(bins))\n",
    "    radDists = GetRadialDistances(coos)\n",
    "    \n",
    "    profile, binsOut, _ = binned_statistic(radDists, values, statistic=stat, bins = bins)\n",
    "    \n",
    "    return profile\n",
    "\n",
    "\n",
    "\n",
    "    \n",
    "def PlotData2DHist(ax, x, y, data, vmin, vmax, cbarLabel, title, bins=64):\n",
    "    ax.set_aspect( 1 )\n",
    "    hh = ax.hist2d(x, y, weights=data, bins=bins, vmin = vmin, vmax = vmax)\n",
    "    \n",
    "    if len(plt.gcf().axes) < 2: # check if there is a cbar already\n",
    "        cbar = plt.colorbar(hh[3], ax=ax)\n",
    "        cbar.set_label(cbarLabel, rotation=270,x=-10)\n",
    "        cbar.ax.yaxis.set_label_coords(6, 0.5)\n",
    "       # cbar.set_clim(vmin=0,vmax=30000)\n",
    "    # ScalarMappable.get_clim(vmin=0,vmax=250000)\n",
    "        cbar.draw_all() \n",
    "    \n",
    "    ax.set_title(title)\n",
    "    ax.set_xlabel(\"[pc]\")\n",
    "    ax.set_ylabel(\"[pc]\")\n",
    "    ax.set_xlim(0,boxSize)\n",
    "    ax.set_ylim(0,boxSize)\n",
    "    \n",
    "    \n",
    "def PlotDataRadialProfile(ax, coos, data, profileBinAmount, yLabel, title):\n",
    "    bins = np.linspace(0,boxSize,profileBinAmount)\n",
    "    profile = GetRadialProfile(coos, data, bins)\n",
    "    ax.plot(bins[:-1]+boxSize/profileBinAmount/2, profile)\n",
    "    ax.set_title(title)\n",
    "    ax.set_xlabel(\"distance from center[pc]\")\n",
    "    ax.set_ylabel(yLabel)\n",
    "    ax.set_yscale(\"log\")\n",
    "    \n",
    "def PlotDataHist(ax, data, xLabel, title):\n",
    "    ax.hist(data)\n",
    "    ax.set_title(title)\n",
    "    ax.set_xlabel(xLabel)\n",
    "    ax.set_ylabel(\"counts\")\n",
    "    ax.set_yscale(\"log\")\n",
    "    \n",
    "\n",
    "def MakeTemperaturePlots(folder, timeStep, axs, radProfileBinAmount, debugOn):\n",
    "    \n",
    "    temperatures = GetTemperatures(folder, timeStep, debugOn)\n",
    "    coos = LoadDataFromHDF(folder, timeStep, \"Coordinates\")\n",
    "    \n",
    "    timeOfThisSnapShotInYears = timeStep * TimeBetSnapshot_in_unit_time * UnitTime_in_yr\n",
    "    \n",
    "    # hist2d\n",
    "    hist2dTitle = \"Temperature distribution after \"+ str(int(timeOfThisSnapShotInYears)) + \" years\"\n",
    "    PlotData2DHist(ax = axs[0], x = coos[:,0], y = coos[:,1], data = temperatures, vmin = 0, vmax = 1e9, cbarLabel = 'temperature [K]', title = hist2dTitle)\n",
    "    \n",
    "    # radial profile\n",
    "    radProfileTitle = \"radial profile of Temperature after \"+ str(int(timeOfThisSnapShotInYears)) + \" years\"\n",
    "    PlotDataRadialProfile(axs[1], coos, temperatures, radProfileBinAmount, yLabel = \"temperature [K]\", title = radProfileTitle)\n",
    "    \n",
    "    # histogram\n",
    "    histTitle = \"temperatures after \"+ str(int(timeOfThisSnapShotInYears)) + \" years\"\n",
    "    PlotDataHist(axs[2], temperatures, xLabel = \"temperature [K]\", title = histTitle)\n",
    "    \n",
    "    \n",
    "    \n",
    "def MakeDensityPlots(folder, timeStep, axs, radProfileBinAmount, debugOn):\n",
    "    \n",
    "    densities = LoadDataFromHDF(folder, timeStep, \"Density\", debugOn)\n",
    "    coos = LoadDataFromHDF(folder, timeStep, \"Coordinates\")\n",
    "    \n",
    "    numberdensities_in_cgs = densities * UnitDensity_in_cgs / m_p\n",
    "    numberdensities_in_cgs_scaled = numberdensities_in_cgs / 1e3\n",
    "    \n",
    "    timeOfThisSnapShotInYears = timeStep * TimeBetSnapshot_in_unit_time * UnitTime_in_yr\n",
    "    \n",
    "    # hist2d\n",
    "    hist2dTitle = \"Density distribution after \"+ str(int(timeOfThisSnapShotInYears)) + \" years\"\n",
    "    PlotData2DHist(ax = axs[0], x = coos[:,0], y = coos[:,1], data = numberdensities_in_cgs_scaled, vmin = 0, vmax = 1, cbarLabel = 'numberdensity [1e3/cm^3]', title = hist2dTitle)\n",
    "    \n",
    "    # radial profile\n",
    "    radProfileTitle = \"radial profile of density after \"+ str(int(timeOfThisSnapShotInYears)) + \" years\"\n",
    "    PlotDataRadialProfile(axs[1], coos, numberdensities_in_cgs, radProfileBinAmount, yLabel = \"density [1/cm^3]\", title = radProfileTitle)\n",
    "    \n",
    "    \n",
    "    # histogram\n",
    "    histTitle = \"Densities after \"+ str(int(timeOfThisSnapShotInYears)) + \" years\"\n",
    "    PlotDataHist(axs[2], numberdensities_in_cgs, xLabel = \"density [1/cm^3]\", title = histTitle)\n",
    "    \n",
    "    \n",
    "def MakeVelocityPlots(folder, timeStep, axs, radProfileBinAmount, debugOn):\n",
    "    \n",
    "    coos = LoadDataFromHDF(folder, timeStep, \"Coordinates\")\n",
    "    absVelocities = GetAbsoluteVelocities(folder, timeStep)\n",
    "    absVelocities_in_km_per_s = absVelocities * UnitVelocity_in_km_per_s\n",
    "    \n",
    "    timeOfThisSnapShotInYears = timeStep * TimeBetSnapshot_in_unit_time * UnitTime_in_yr\n",
    "    \n",
    "    x = coos[:,0]\n",
    "    y = coos[:,1]\n",
    "    \n",
    "    # hist2d\n",
    "    hist2dTitle = \"absolute Veloctiy distribution after \"+ str(int(timeOfThisSnapShotInYears)) + \" years\"\n",
    "    PlotData2DHist(ax = axs[0], x = coos[:,0], y = coos[:,1], data = absVelocities_in_km_per_s, vmin = 0, vmax = 1e5, cbarLabel = 'Velocity [cm/s]', title = hist2dTitle)\n",
    "    \n",
    "    # radial profile\n",
    "    radProfileTitle = \"radial profile of absolute Veloctiy after \"+ str(int(timeOfThisSnapShotInYears)) + \" years\"\n",
    "    PlotDataRadialProfile(axs[1], coos, absVelocities_in_km_per_s, radProfileBinAmount, yLabel = \"absolute velocity [km/s]\", title = radProfileTitle)\n",
    "    \n",
    "    # histogram\n",
    "    histTitle = \"absolute Velocties after \"+ str(int(timeOfThisSnapShotInYears)) + \" years\"\n",
    "    PlotDataHist(axs[2], absVelocities_in_km_per_s, xLabel = \"absolute velocity [km/s]\", title = histTitle)\n",
    "    \n",
    "def MakeMultiPlot(folder, timeStep, radProfileBinAmount, saveFolder, debugOn): \n",
    "    \n",
    "    fig, axs = plt.subplots(3, 3, figsize=(20,30))\n",
    "    \n",
    "    MakeTemperaturePlots(folder, timeStep, axs[:,0], radProfileBinAmount, debugOn)\n",
    "    MakeDensityPlots(folder, timeStep, axs[:,1], radProfileBinAmount, debugOn)\n",
    "    MakeVelocityPlots(folder, timeStep, axs[:,2], radProfileBinAmount, debugOn)\n",
    "    \n",
    "    plt.savefig(saveFolder + 'frame_%03d.png' % timeStep)\n",
    "    plt.close(fig)"
   ]
  },
  {
   "cell_type": "code",
   "execution_count": 15,
   "id": "f8c36137",
   "metadata": {},
   "outputs": [],
   "source": [
    "##folderPath = \"/u/xboecker/run/2_new_create/\"\n",
    "##folderNames = [\"28_0_IC_SN_BoxSize_96\", \"28_4_p0_1\", \"28_1_n0_10\", \"28_1_2_n0_100\", \"28_2_1_cells_64\", \"28_2_2_cells_32\", \"28_3_1_stars_10\"] # also used for naming the save files\n",
    "#\n",
    "#folderPath = \"/u/xboecker/run/3_multiple_SNe/\"\n",
    "#folderNames = [\"0_1_star\", \"1_stars_10_linear_spacial_distribution_rad_10\", \"2_stars_10_linear_temporal_distribution_temp_5kyr\", \"3_stars_10_linear_spacial_and_temporal_distribution_rad_10pc_temp_5kyr\"]\n",
    "#dataFolders = np.full(len(folderNames),\"string long enough so that no entry will be longer than this, because then is would be cut off......................................................................................\")\n",
    "#\n",
    "#for i in range(len(folderNames)):\n",
    "#    dataFolders[i] = folderPath+folderNames[i]+\"/output\"\n",
    "#    \n",
    "#\n",
    "#boxSize = 96\n",
    "#frameAmount = 40\n",
    "#frameNbrMultiplier = 1\n",
    "#TimeBetSnapshot_in_unit_time = 0.002"
   ]
  },
  {
   "cell_type": "code",
   "execution_count": 23,
   "id": "4aa89b20",
   "metadata": {},
   "outputs": [],
   "source": [
    "#folderPath = \"/u/xboecker/run/2_new_create/\"\n",
    "#folderName = \"28_0_IC_SN_BoxSize_96\" # also used for naming the save files\n",
    "\n",
    "folderPath = \"/vera/ptmp/gc/xboecker/run/5_SN_cluster_final/\"\n",
    "folderName = \"2_stars_5\" # also change saveFolder!\n",
    "\n",
    "saveFolder = \"plots/Cluster/5_stars/\"\n",
    "\n",
    "dataFolder = folderPath+folderName+\"/output\"\n",
    "boxSize = 96\n",
    "frameAmount = 40\n",
    "frameNbrMultiplier = 10\n",
    "TimeBetSnapshot_in_unit_time = 0.002\n",
    "\n",
    "radProfileBinAmount = 50\n",
    "\n",
    "debugOn = False\n",
    "skipICs = False\n",
    "onlyLastSnapshot = False"
   ]
  },
  {
   "cell_type": "code",
   "execution_count": 24,
   "id": "ab26388e",
   "metadata": {},
   "outputs": [],
   "source": [
    "def animate(timeStep):\n",
    "    if(skipICs):\n",
    "        timeStep += 1\n",
    "        if(timeStep >= frameAmount):\n",
    "            return\n",
    "    if(onlyLastSnapshot):\n",
    "        if(timeStep > 0):\n",
    "            return\n",
    "        timeStep = frameAmount-1\n",
    "    MakeMultiPlot(dataFolder, timeStep, radProfileBinAmount, saveFolder, debugOn)"
   ]
  },
  {
   "cell_type": "code",
   "execution_count": 25,
   "id": "5cf5c520",
   "metadata": {},
   "outputs": [
    {
     "data": {
      "text/plain": [
       "39"
      ]
     },
     "metadata": {},
     "output_type": "display_data"
    },
    {
     "name": "stdout",
     "output_type": "stream",
     "text": [
      "initial temperature: 9.52642678286124K\n"
     ]
    },
    {
     "name": "stderr",
     "output_type": "stream",
     "text": [
      "/tmp/ipykernel_69921/3426866689.py:86: UserWarning: Data has no positive values, and therefore cannot be log-scaled.\n",
      "  ax.set_yscale(\"log\")\n"
     ]
    }
   ],
   "source": [
    "#calculate and save plots\n",
    "\n",
    "dh = display(0,display_id=True)\n",
    "\n",
    "for timeStep in range(frameAmount):\n",
    "    animate(timeStep)\n",
    "    dh.update(timeStep)\n",
    "plt.show()"
   ]
  },
  {
   "cell_type": "code",
   "execution_count": null,
   "id": "692763fe",
   "metadata": {},
   "outputs": [],
   "source": []
  },
  {
   "cell_type": "code",
   "execution_count": null,
   "id": "bfc6177e",
   "metadata": {},
   "outputs": [],
   "source": []
  },
  {
   "cell_type": "code",
   "execution_count": null,
   "id": "9f700ff6",
   "metadata": {},
   "outputs": [],
   "source": []
  },
  {
   "cell_type": "code",
   "execution_count": null,
   "id": "08d4f6f0",
   "metadata": {},
   "outputs": [],
   "source": []
  },
  {
   "cell_type": "code",
   "execution_count": null,
   "id": "53dfbdf0",
   "metadata": {},
   "outputs": [],
   "source": []
  },
  {
   "cell_type": "code",
   "execution_count": null,
   "id": "e6488257",
   "metadata": {},
   "outputs": [],
   "source": []
  },
  {
   "cell_type": "markdown",
   "id": "4c412cb4",
   "metadata": {},
   "source": [
    "# Testing stuff to make a video"
   ]
  },
  {
   "cell_type": "code",
   "execution_count": 42,
   "id": "dc86df5f",
   "metadata": {},
   "outputs": [],
   "source": [
    "#import cv2\n",
    "import os\n",
    "\n",
    "os.mkdir(\"plots/test\")\n",
    "\n",
    "#image_folder = 'plots'\n",
    "#video_name = 'video.avi'\n",
    "#\n",
    "#images = [img for img in os.listdir(image_folder) if img.endswith(\".png\")]\n",
    "#frame = cv2.imread(os.path.join(image_folder, images[0]))\n",
    "#height, width, layers = frame.shape\n",
    "#\n",
    "#video = cv2.VideoWriter(video_name, 0, 1, (width,height))\n",
    "#\n",
    "#for image in images:\n",
    "#    video.write(cv2.imread(os.path.join(image_folder, image)))\n",
    "#\n",
    "#cv2.destroyAllWindows()\n",
    "#video.release()"
   ]
  },
  {
   "cell_type": "code",
   "execution_count": 40,
   "id": "e27c2680",
   "metadata": {},
   "outputs": [
    {
     "data": {
      "image/png": "[encoded data removed]",
      "text/plain": [
       "<Figure size 432x288 with 1 Axes>"
      ]
     },
     "metadata": {
      "needs_background": "light"
     },
     "output_type": "display_data"
    }
   ],
   "source": [
    "fig, ax = plt.subplots()\n",
    "plt.axis([0, 400, 0, 300])\n",
    "\n",
    "\n",
    "def animate(i):\n",
    "    img = mpimg.imread(\"plots/multiplot_\"+folderName+\"_timeStep_\"+str(timeStep)+\".png\")\n",
    "    #imgplot = plt.imshow(img)\n",
    "    return img\n",
    "anim = animation.FuncAnimation(fig, animate,\n",
    "                               frames=frameAmount)#,\n",
    "                               #interval=5,\n",
    "                               #repeat=False)\n",
    "#ax.set_aspect('equal')\n",
    "\n",
    "f = r\"testMovie.gif\" \n",
    "writergif = matplotlib.animation.PillowWriter(fps=10) \n",
    "anim.save(f, writer=writergif)\n",
    "\n",
    "plt.show()"
   ]
  },
  {
   "cell_type": "code",
   "execution_count": 34,
   "id": "b398368d",
   "metadata": {},
   "outputs": [
    {
     "data": {
      "image/png": "[encoded data removed]",
      "text/plain": [
       "<Figure size 432x288 with 1 Axes>"
      ]
     },
     "metadata": {
      "needs_background": "light"
     },
     "output_type": "display_data"
    }
   ],
   "source": [
    "fig, ax = plt.subplots()\n",
    "plt.axis([0, 400, 0, 300])\n",
    "\n",
    "timeStep = 5\n",
    "\n",
    "imobj = ax.imshow(np.zeros((0,0)), aspect='auto',zorder=1)\n",
    "fname=\"plots/multiplot_\"+folderName+\"_timeStep_\"+str(timeStep)+\".png\"\n",
    "img = mgimg.imread(fname)[-1::-1]\n",
    "imobj.set_data(img)\n",
    "\n",
    "plt.show()"
   ]
  },
  {
   "cell_type": "code",
   "execution_count": 37,
   "id": "9661b7cd",
   "metadata": {},
   "outputs": [
    {
     "name": "stdout",
     "output_type": "stream",
     "text": [
      "Populating the interactive namespace from numpy and matplotlib\n"
     ]
    },
    {
     "data": {
      "image/png": "[encoded data removed]",
      "text/plain": [
       "<Figure size 432x288 with 1 Axes>"
      ]
     },
     "metadata": {
      "needs_background": "light"
     },
     "output_type": "display_data"
    }
   ],
   "source": [
    "%pylab inline\n",
    "\n",
    "plt.show()"
   ]
  },
  {
   "cell_type": "markdown",
   "id": "0fe3ba48",
   "metadata": {},
   "source": [
    "# Single Image plot"
   ]
  },
  {
   "cell_type": "code",
   "execution_count": 21,
   "id": "d39aa3b0",
   "metadata": {},
   "outputs": [],
   "source": [
    "def MakeSingleDensityPlot(folder, timeStep):\n",
    "    fig, axs = plt.subplots(1, 1, figsize=(10,15))\n",
    "    axs.set_aspect( 1 )\n",
    "\n",
    "    densities = LoadDataFromHDF(folder, timeStep, \"Density\", debugOn)\n",
    "    coos = LoadDataFromHDF(folder, timeStep, \"Coordinates\")\n",
    "\n",
    "    numberdensities_in_cgs = densities * UnitDensity_in_cgs / m_p\n",
    "    numberdensities_in_cgs_scaled = numberdensities_in_cgs / 1e3\n",
    "\n",
    "    timeOfThisSnapShotInYears = timeStep * TimeBetSnapshot_in_unit_time * UnitTime_in_yr\n",
    "\n",
    "    # hist2d\n",
    "    hist2dTitle = \"Density distribution after \"+ str(int(timeOfThisSnapShotInYears)) + \" years\"\n",
    "    PlotData2DHist(ax = axs, x = coos[:,0], y = coos[:,1], data = numberdensities_in_cgs_scaled, vmin = 0, vmax = 2, cbarLabel = 'numberdensity [1e3/cm^3]', title = hist2dTitle)\n",
    "    plt.show()"
   ]
  },
  {
   "cell_type": "code",
   "execution_count": 26,
   "id": "2efe30a0",
   "metadata": {},
   "outputs": [
    {
     "data": {
      "image/png": "[encoded data removed]",
      "text/plain": [
       "<Figure size 720x1080 with 2 Axes>"
      ]
     },
     "metadata": {
      "needs_background": "light"
     },
     "output_type": "display_data"
    }
   ],
   "source": [
    "folder = dataFolder\n",
    "timeStep = 20\n",
    "\n",
    "MakeSingleDensityPlot(folder, timeStep)"
   ]
  },
  {
   "cell_type": "code",
   "execution_count": null,
   "id": "a6ec8c16",
   "metadata": {},
   "outputs": [],
   "source": []
  }
 ],
 "metadata": {
  "kernelspec": {
   "display_name": "Python 3 (ipykernel)",
   "language": "python",
   "name": "python3"
  },
  "language_info": {
   "codemirror_mode": {
    "name": "ipython",
    "version": 3
   },
   "file_extension": ".py",
   "mimetype": "text/x-python",
   "name": "python",
   "nbconvert_exporter": "python",
   "pygments_lexer": "ipython3",
   "version": "3.9.7"
  }
 },
 "nbformat": 4,
 "nbformat_minor": 5
}
